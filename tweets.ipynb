{
  "cells": [
    {
      "cell_type": "code",
      "execution_count": 1,
      "metadata": {
        "colab": {
          "base_uri": "https://localhost:8080/"
        },
        "id": "7j-_nq9Bv2w0",
        "outputId": "6d312880-1f82-4df8-8a43-be6e43c16186"
      },
      "outputs": [
        {
          "name": "stderr",
          "output_type": "stream",
          "text": [
            "[nltk_data] Downloading package punkt to /root/nltk_data...\n",
            "[nltk_data]   Unzipping tokenizers/punkt.zip.\n"
          ]
        }
      ],
      "source": [
        "# Biblioteca para trabalhar com dataframes e manipulacao de dados\n",
        "import pandas as pd\n",
        "import matplotlib.pyplot as plt\n",
        "\n",
        "# Biblioteca para utilizar a api do twitter\n",
        "import tweepy\n",
        "\n",
        "# Biblioteca de Linguagem Natural\n",
        "import nltk\n",
        "nltk.download('punkt')\n",
        "from nltk.tokenize import word_tokenize\n",
        "from nltk.classify import NaiveBayesClassifier\n",
        "\n",
        "# manipulacao de arquivo\n",
        "import os\n",
        "import pickle\n",
        "\n",
        "\n",
        "# dados de conexao com twitter\n",
        "CONSUMER_API_KEY = \"PMrkmRMQy3n7yZnBcYM6\"\n",
        "CONSUMER_API_SECRET = \"f3e9oFfDfw3MA8ZmrVUDO8UTdb3TFrOsdkGmWRmmzCx\"\n",
        "ACCESS_TOKEN = \"92998645-EphmhVfonqO2YbXtBmRIcgZSpA6aoGt6nNPD8JAI9\"\n",
        "ACCESS_TOKEN_SECRET = \"0MbzoFCMq4LrGcya8ro2XMrjBifteujAa3NnVsgepHDG4\"\n",
        "\n",
        "\n",
        "'''\n",
        "Função que retorna um dataframe com os tweets buscados na API do Twitter\n",
        "'''\n",
        "def buscarTweets(api,local,numMaxTweets):\n",
        "  tweets_buscados = []\n",
        "  for tweet in tweepy.Cursor(api.search, q=local, tweet_mode='extended').items(numMaxTweets):\n",
        "    texto = tweet.full_text\n",
        "    tweets_buscados.append({'title': title, 'sentimento': '', 'avaliacao': '','text':texto, 'tweet': tweet._json})\n",
        "\n",
        "  return pd.DataFrame(tweets_buscados)\n",
        "\n",
        "\n",
        "'''\n",
        "Função para receber um dataframe e um modelo de  NaiveBayes treinado\n",
        "e realizar a a classificacao automatica da coluna sentimento retornando o proprio dataframe\n",
        "'''\n",
        "def classificandoDataframe (df, modelo):\n",
        "\n",
        "  for i, row in df.iterrows(): #iterrows (entrelinhas) retorna uma série para cada linha\n",
        "      sentenca = row.text.lower()\n",
        "      sentimento = modelo.classify(formatar_sentenca(sentenca))\n",
        "      df._set_value(i,'sentimento',sentimento)\n",
        "      \n",
        "  return df \n",
        "\n",
        "'''\n",
        "Função que recebe um dataframe com os tweets buscados e classificados automaticamente para\n",
        "que um humano possa avaliar o desempenho e retorna o dataframe atual mais as linhas do dataframe base para gerar um modelo maior\n",
        "'''\n",
        "def avaliandoAlgoritimo(df,dfBase):\n",
        "\n",
        "  # avaliando os resultados classificados automaticamente\n",
        "  for i, row in df.iterrows():\n",
        "      #não vou avaliar o que eu ja classifiquei no primeiro treinamento\n",
        "      if (dfBase['text'].eq(row.text)).any() :\n",
        "        df._set_value(i,'avaliacao','x')\n",
        "        continue\n",
        "\n",
        "      print ('Tweet ' + str(i) + ':' + row.text)\n",
        "      print ('Sentimento ' + ':' + row.sentimento)\n",
        "      avaliacao = ''\n",
        "      avaliacao = input('O algoritimo classificou corretamente N ou S ?')\n",
        "      df._set_value(i,'avaliacao',avaliacao.lower())\n",
        "  \n",
        "  #garantir que entre uma rodada e outra um tweet que eu avaliei\n",
        "  #na primeira rodada fique de fora desse novo df que vai servir \n",
        "  #para gerar outro modelo\n",
        "  for i, row in dfBase.iterrows():\n",
        "    if (df['text'].eq(row.text)).any() :\n",
        "      continue\n",
        "\n",
        "    #se nao encontrou adiciona\n",
        "    df.append(row)\n",
        "\n",
        "  return df\n",
        "\n",
        "'''\n",
        "Função que recebe os paramêtros de conexão, consulta, numero de tweets para buscar modelo treinamento e o dataframe anterior.\n",
        "Ela executa 3 passos:\n",
        "- Buscar tweets\n",
        "- classificar automaticamente\n",
        "- avaliar a classificação\n",
        "\n",
        "retorno é um dataframe com os tweets buscados/classificados/avaliados + os do treinamento anterior\n",
        "'''\n",
        "def fluxoDeBusca(api,consulta,numMaxTweets,modelo,df_anterior):\n",
        "  # primeira busca / classificacao e avaliacao\n",
        "  df_novos = buscarTweets(api,consulta,numMaxTweets)\n",
        "\n",
        "  # classificacao automatica sem repeticao\n",
        "  df_novos = classificandoDataframe(df_novos,modelo)\n",
        "\n",
        "  #avaliando algoritimo\n",
        "  df_novos = avaliandoAlgoritimo(df_novos, df_anterior)\n",
        "\n",
        "  return df_novos\n",
        "\n",
        "def formatar_sentenca(sentenca):\n",
        "   return {palavra: True for palavra in word_tokenize(sentenca)}\n",
        "\n",
        "'''\n",
        "Recebe um data frame e cria um array no formato que o algoritmo de nayve bayes\n",
        "precisa para gerar o modelo treinado separando as palavras\n",
        "return array\n",
        "'''\n",
        "def prepararDadosModelo(df):\n",
        "  dados_treinamento = []\n",
        "  for i, row in df.iterrows():\n",
        "    if row.avaliacao.lower()=='s' or row.avaliacao.lower()=='x' :\n",
        "      dados_treinamento.append([formatar_sentenca(row.text), row.sentimento])\n",
        "  \n",
        "  return dados_treinamento\n",
        "\n",
        "'''\n",
        "Recebe um array dos dados treinados no fomato para gerar um modelo de NaiveBayesClassifier\n",
        "return NaiveBayesClassifier.train()\n",
        "'''\n",
        "def atualizarModelo(dados):\n",
        "  return NaiveBayesClassifier.train(dados)\n",
        "\n",
        "\n",
        "# obtendo o resultado atualizado\n",
        "def atualizarResultados (df, df_resultado) :\n",
        "  acertos = int(df[(df.avaliacao=='s')].avaliacao.count())\n",
        "  new_row = [{'title':title, 'tamanhoModelo':tamanhoModelo, 'qtdTweetsBuscados':numMaxTweets, 'acertos': acertos}]\n",
        "  df_resultado = df_resultado.append(new_row)\n",
        "  return df_resultado\n",
        "\n",
        "def salvarModeloEmArquivo(modelo):\n",
        "  filename = './modelos/modelo.obj'\n",
        "  if not os.path.exists(os.path.dirname(filename)):\n",
        "              try:\n",
        "                  os.makedirs(os.path.dirname(filename))\n",
        "              except OSError as exc: \n",
        "                  if exc.errno != errno.EEXIST:\n",
        "                      raise\n",
        "\n",
        "  # formata o modelo para uso do algoritimo de classificação (estudar melhor esse pickle)\n",
        "  with open(filename, 'wb') as f:\n",
        "    modelo_serial = pickle.dump(modelo, f)\n",
        "\n",
        "  return modelo_serial\n",
        "\n",
        "# conectando ao twitter\n",
        "auth = tweepy.AppAuthHandler(CONSUMER_API_KEY, CONSUMER_API_SECRET)\n",
        "api = tweepy.API(auth)\n",
        "\n"
      ]
    },
    {
      "cell_type": "code",
      "execution_count": 3,
      "metadata": {
        "colab": {
          "base_uri": "https://localhost:8080/",
          "height": 467
        },
        "id": "Snj97MLIi19Y",
        "outputId": "576b8879-654d-451b-b535-e92d7d761a19"
      },
      "outputs": [
        {
          "name": "stdout",
          "output_type": "stream",
          "text": [
            "DEFINA O SENTMENTO QUE CADA TWEET LHE TRANSMITIU COM um 'S' (positivo) e 'N' (negativo)\n",
            "Tweet 0:Genteeeee, eu tô chocado que a namorada do Neymar fez um reclame aqui referente ao colchão que ela comprou comigo 😂😂😂😂😂\n",
            "Sentimento N ou P ?p\n",
            "Tweet 1:@NikoIasFerreira otario, bolsonaro perdeu e brasil continua existindo, neymar mora na europa e brasil continua existindo\n",
            "Sentimento N ou P ?n\n",
            "Tweet 2:imagina que tristeza achar o neymar bonito\n",
            "Sentimento N ou P ?n\n",
            "Tweet 3:Neymar batendo pênalti é um nojo. \n",
            "\n",
            "Mas me veio um pensamento: será que ele conseguiria fazer isso com o Dida no gol? \n",
            "\n",
            "Fica o questionamento\n",
            "Sentimento N ou P ?p\n",
            "Tweet 4:@Rconstantino E igual falar que Neymar não sabe bater pênalti\n",
            "Sentimento N ou P ?p\n"
          ]
        },
        {
          "data": {
            "text/html": [
              "\n",
              "  <div id=\"df-c4f27c5e-100d-4f2f-a9fc-a2f4edddbb93\">\n",
              "    <div class=\"colab-df-container\">\n",
              "      <div>\n",
              "<style scoped>\n",
              "    .dataframe tbody tr th:only-of-type {\n",
              "        vertical-align: middle;\n",
              "    }\n",
              "\n",
              "    .dataframe tbody tr th {\n",
              "        vertical-align: top;\n",
              "    }\n",
              "\n",
              "    .dataframe thead th {\n",
              "        text-align: right;\n",
              "    }\n",
              "</style>\n",
              "<table border=\"1\" class=\"dataframe\">\n",
              "  <thead>\n",
              "    <tr style=\"text-align: right;\">\n",
              "      <th></th>\n",
              "      <th>title</th>\n",
              "      <th>sentimento</th>\n",
              "      <th>avaliacao</th>\n",
              "      <th>text</th>\n",
              "      <th>tweet</th>\n",
              "    </tr>\n",
              "  </thead>\n",
              "  <tbody>\n",
              "    <tr>\n",
              "      <th>0</th>\n",
              "      <td>Neymar</td>\n",
              "      <td>positivo</td>\n",
              "      <td>x</td>\n",
              "      <td>Genteeeee, eu tô chocado que a namorada do Ney...</td>\n",
              "      <td>{'created_at': 'Tue Dec 06 13:57:40 +0000 2022...</td>\n",
              "    </tr>\n",
              "    <tr>\n",
              "      <th>1</th>\n",
              "      <td>Neymar</td>\n",
              "      <td>negativo</td>\n",
              "      <td>x</td>\n",
              "      <td>@NikoIasFerreira otario, bolsonaro perdeu e br...</td>\n",
              "      <td>{'created_at': 'Tue Dec 06 13:50:48 +0000 2022...</td>\n",
              "    </tr>\n",
              "    <tr>\n",
              "      <th>2</th>\n",
              "      <td>Neymar</td>\n",
              "      <td>negativo</td>\n",
              "      <td>x</td>\n",
              "      <td>imagina que tristeza achar o neymar bonito</td>\n",
              "      <td>{'created_at': 'Tue Dec 06 13:47:28 +0000 2022...</td>\n",
              "    </tr>\n",
              "    <tr>\n",
              "      <th>3</th>\n",
              "      <td>Neymar</td>\n",
              "      <td>positivo</td>\n",
              "      <td>x</td>\n",
              "      <td>Neymar batendo pênalti é um nojo. \\n\\nMas me v...</td>\n",
              "      <td>{'created_at': 'Tue Dec 06 13:43:11 +0000 2022...</td>\n",
              "    </tr>\n",
              "    <tr>\n",
              "      <th>4</th>\n",
              "      <td>Neymar</td>\n",
              "      <td>positivo</td>\n",
              "      <td>x</td>\n",
              "      <td>@Rconstantino E igual falar que Neymar não sab...</td>\n",
              "      <td>{'created_at': 'Tue Dec 06 13:39:26 +0000 2022...</td>\n",
              "    </tr>\n",
              "  </tbody>\n",
              "</table>\n",
              "</div>\n",
              "      <button class=\"colab-df-convert\" onclick=\"convertToInteractive('df-c4f27c5e-100d-4f2f-a9fc-a2f4edddbb93')\"\n",
              "              title=\"Convert this dataframe to an interactive table.\"\n",
              "              style=\"display:none;\">\n",
              "        \n",
              "  <svg xmlns=\"http://www.w3.org/2000/svg\" height=\"24px\"viewBox=\"0 0 24 24\"\n",
              "       width=\"24px\">\n",
              "    <path d=\"M0 0h24v24H0V0z\" fill=\"none\"/>\n",
              "    <path d=\"M18.56 5.44l.94 2.06.94-2.06 2.06-.94-2.06-.94-.94-2.06-.94 2.06-2.06.94zm-11 1L8.5 8.5l.94-2.06 2.06-.94-2.06-.94L8.5 2.5l-.94 2.06-2.06.94zm10 10l.94 2.06.94-2.06 2.06-.94-2.06-.94-.94-2.06-.94 2.06-2.06.94z\"/><path d=\"M17.41 7.96l-1.37-1.37c-.4-.4-.92-.59-1.43-.59-.52 0-1.04.2-1.43.59L10.3 9.45l-7.72 7.72c-.78.78-.78 2.05 0 2.83L4 21.41c.39.39.9.59 1.41.59.51 0 1.02-.2 1.41-.59l7.78-7.78 2.81-2.81c.8-.78.8-2.07 0-2.86zM5.41 20L4 18.59l7.72-7.72 1.47 1.35L5.41 20z\"/>\n",
              "  </svg>\n",
              "      </button>\n",
              "      \n",
              "  <style>\n",
              "    .colab-df-container {\n",
              "      display:flex;\n",
              "      flex-wrap:wrap;\n",
              "      gap: 12px;\n",
              "    }\n",
              "\n",
              "    .colab-df-convert {\n",
              "      background-color: #E8F0FE;\n",
              "      border: none;\n",
              "      border-radius: 50%;\n",
              "      cursor: pointer;\n",
              "      display: none;\n",
              "      fill: #1967D2;\n",
              "      height: 32px;\n",
              "      padding: 0 0 0 0;\n",
              "      width: 32px;\n",
              "    }\n",
              "\n",
              "    .colab-df-convert:hover {\n",
              "      background-color: #E2EBFA;\n",
              "      box-shadow: 0px 1px 2px rgba(60, 64, 67, 0.3), 0px 1px 3px 1px rgba(60, 64, 67, 0.15);\n",
              "      fill: #174EA6;\n",
              "    }\n",
              "\n",
              "    [theme=dark] .colab-df-convert {\n",
              "      background-color: #3B4455;\n",
              "      fill: #D2E3FC;\n",
              "    }\n",
              "\n",
              "    [theme=dark] .colab-df-convert:hover {\n",
              "      background-color: #434B5C;\n",
              "      box-shadow: 0px 1px 3px 1px rgba(0, 0, 0, 0.15);\n",
              "      filter: drop-shadow(0px 1px 2px rgba(0, 0, 0, 0.3));\n",
              "      fill: #FFFFFF;\n",
              "    }\n",
              "  </style>\n",
              "\n",
              "      <script>\n",
              "        const buttonEl =\n",
              "          document.querySelector('#df-c4f27c5e-100d-4f2f-a9fc-a2f4edddbb93 button.colab-df-convert');\n",
              "        buttonEl.style.display =\n",
              "          google.colab.kernel.accessAllowed ? 'block' : 'none';\n",
              "\n",
              "        async function convertToInteractive(key) {\n",
              "          const element = document.querySelector('#df-c4f27c5e-100d-4f2f-a9fc-a2f4edddbb93');\n",
              "          const dataTable =\n",
              "            await google.colab.kernel.invokeFunction('convertToInteractive',\n",
              "                                                     [key], {});\n",
              "          if (!dataTable) return;\n",
              "\n",
              "          const docLinkHtml = 'Like what you see? Visit the ' +\n",
              "            '<a target=\"_blank\" href=https://colab.research.google.com/notebooks/data_table.ipynb>data table notebook</a>'\n",
              "            + ' to learn more about interactive tables.';\n",
              "          element.innerHTML = '';\n",
              "          dataTable['output_type'] = 'display_data';\n",
              "          await google.colab.output.renderOutput(dataTable, element);\n",
              "          const docLink = document.createElement('div');\n",
              "          docLink.innerHTML = docLinkHtml;\n",
              "          element.appendChild(docLink);\n",
              "        }\n",
              "      </script>\n",
              "    </div>\n",
              "  </div>\n",
              "  "
            ],
            "text/plain": [
              "    title sentimento avaliacao  \\\n",
              "0  Neymar   positivo         x   \n",
              "1  Neymar   negativo         x   \n",
              "2  Neymar   negativo         x   \n",
              "3  Neymar   positivo         x   \n",
              "4  Neymar   positivo         x   \n",
              "\n",
              "                                                text  \\\n",
              "0  Genteeeee, eu tô chocado que a namorada do Ney...   \n",
              "1  @NikoIasFerreira otario, bolsonaro perdeu e br...   \n",
              "2         imagina que tristeza achar o neymar bonito   \n",
              "3  Neymar batendo pênalti é um nojo. \\n\\nMas me v...   \n",
              "4  @Rconstantino E igual falar que Neymar não sab...   \n",
              "\n",
              "                                               tweet  \n",
              "0  {'created_at': 'Tue Dec 06 13:57:40 +0000 2022...  \n",
              "1  {'created_at': 'Tue Dec 06 13:50:48 +0000 2022...  \n",
              "2  {'created_at': 'Tue Dec 06 13:47:28 +0000 2022...  \n",
              "3  {'created_at': 'Tue Dec 06 13:43:11 +0000 2022...  \n",
              "4  {'created_at': 'Tue Dec 06 13:39:26 +0000 2022...  "
            ]
          },
          "execution_count": 3,
          "metadata": {},
          "output_type": "execute_result"
        }
      ],
      "source": [
        "##TREINAMENTO 01\n",
        "# parâmetros de consulta no twitter\n",
        "title = 'copa' #Assunto que vamos buscar\n",
        "consulta = 'place:1b107df3ccc0aaa1 \"' + title + '\" '\n",
        "numMaxTweets = 5\n",
        "\n",
        "# buscando os tweets e armazenando em um array tweets_buscados\n",
        "df = buscarTweets(api,consulta,numMaxTweets)\n",
        "\n",
        "print (\"DEFINA O SENTMENTO QUE CADA TWEET LHE TRANSMITIU COM um 'N' (neutro) e 'R' (ruim) 'B' (bom)\")\n",
        "for i, row in df.iterrows():\n",
        "    print ('Tweet ' + str(i) + ':' + row.text)\n",
        "    \n",
        "    sentimento = ''\n",
        "    sentimento = input('Sentimento B, N ou R ?')\n",
        "    if sentimento.lower()=='b' :\n",
        "      sentimento = 'bom'\n",
        "      \n",
        "    if sentimento.lower()=='n' :\n",
        "      sentimento = 'neutro'\n",
        "\n",
        "    if sentimento.lower()=='r' :\n",
        "      sentimento = 'ruim'\n",
        "\n",
        "    df._set_value(i,'sentimento',sentimento)\n",
        "    df._set_value(i,'avaliacao', 'x') # x porque foi eu que avaliei\n",
        "\n",
        "\n",
        "\n"
      ]
    },
    {
      "cell_type": "code",
      "execution_count": null,
      "metadata": {},
      "outputs": [],
      "source": [
        "# Dataframe so com os resultados\n",
        "df_resultado = pd.DataFrame(columns = ['title', 'tamanhoModelo', 'qtdTweetsBuscados','acertos'])\n",
        "\n",
        "# dados classificados (treinados)\n",
        "df"
      ]
    },
    {
      "cell_type": "code",
      "execution_count": 5,
      "metadata": {
        "colab": {
          "base_uri": "https://localhost:8080/"
        },
        "id": "bSunIgu4DvAc",
        "outputId": "3534b13e-2aa5-4e85-cd15-ab27b0ebf527"
      },
      "outputs": [
        {
          "name": "stdout",
          "output_type": "stream",
          "text": [
            "Tweet 5:@77_frota Neymar fez sim, aquela área com.lingua de fora é um gesto pro Bolsonaro, seu ridículo.\n",
            "Sentimento :positivo\n",
            "O algoritimo classificou corretamente N ou S ?n\n",
            "Tweet 6:@GoleiroAluguel \n",
            "@LuvasPoker \n",
            "\n",
            "#CopaDoMundo2022 \n",
            "#Pele \n",
            "#Neymar \n",
            "#farofadagkay \n",
            "#SelecaoBrasileira \n",
            "#goleiro https://t.co/WSeLZ002Et\n",
            "Sentimento :negativo\n",
            "O algoritimo classificou corretamente N ou S ?n\n",
            "Tweet 7:@RamaDigier @LouisJMarinelli @TheAthletic You are generalizing their lives. \n",
            "Just two examples - Neymar and Ronaldinho Gaucho didn't come from poor families. There are so many others too...\n",
            "Sentimento :negativo\n",
            "O algoritimo classificou corretamente N ou S ?n\n",
            "Tweet 8:Não consigo pensar em nada q o Neymar aos 23 perdesse pro Mbappé https://t.co/a2LHgydAhX\n",
            "Sentimento :negativo\n",
            "O algoritimo classificou corretamente N ou S ?s\n",
            "Tweet 9:disse antes da copa e vou repetir: brasil só ganha a copa com neymar em campo\n",
            "Sentimento :negativo\n",
            "O algoritimo classificou corretamente N ou S ?n\n"
          ]
        }
      ],
      "source": [
        "\n",
        "#TREINAMENTO 02 - CORREÇÃO 1\n",
        "\n",
        "# primeiro modelo que eu treinei\n",
        "dados_aprendizado = prepararDadosModelo(df)\n",
        "modelo = atualizarModelo(dados_aprendizado)\n",
        "\n",
        "# dados para busca e para o datafram de resultado\n",
        "tamanhoModelo = len(dados_aprendizado) # tamanho do modelo atual\n",
        "numMaxTweets=5\n",
        "\n",
        "df_novo1 = fluxoDeBusca(api,consulta,numMaxTweets,modelo, df)\n",
        "\n",
        "df_resultado = atualizarResultados(df_novo1,df_resultado)\n",
        "\n"
      ]
    },
    {
      "cell_type": "code",
      "execution_count": 6,
      "metadata": {
        "colab": {
          "base_uri": "https://localhost:8080/"
        },
        "id": "IktqzkeZ2FiN",
        "outputId": "02e0a55f-097c-4428-cc08-1ff5b8ef091e"
      },
      "outputs": [
        {
          "name": "stdout",
          "output_type": "stream",
          "text": [
            "Tweet 10:viciada em ver edit do tiktok do messi com o neymar\n",
            "Sentimento :negativo\n",
            "O algoritimo classificou corretamente N ou S ?n\n",
            "Tweet 11:@lavinialq17 @JANI_VALVERD Veja como é o destino. Neymar jogou com chuteiras vermelhas, o gol dele foi aos 13 minutos e ainda comemorou mostrando a língua. https://t.co/h6ztQRAfOl\n",
            "Sentimento :positivo\n",
            "O algoritimo classificou corretamente N ou S ?s\n",
            "Tweet 12:O  @wcasagrandejr deve ter uma paixão platônica no Neymar. Ou deve ser inveja, pq ele não fez metade do que o Neymar fez/ faz. https://t.co/SHtGUftjwf\n",
            "Sentimento :positivo\n",
            "O algoritimo classificou corretamente N ou S ?s\n",
            "Tweet 13:@gabsrsr A função de Neymar na seleção não é fazer gol.\n",
            "\n",
            "E Neymar é o batedor oficial de pênalti da seleção. Todo pênalti quem bate é ele.\n",
            "Sentimento :positivo\n",
            "O algoritimo classificou corretamente N ou S ?s\n",
            "Tweet 14:@IrisTramos A função de Neymar na seleção não é fazer gol\n",
            "Sentimento :positivo\n",
            "O algoritimo classificou corretamente N ou S ?s\n"
          ]
        }
      ],
      "source": [
        "#TREINAMENTO 03 - CORREÇÃO 2\n",
        "# novo modelo, nova rodada\n",
        "dados_aprendizado = prepararDadosModelo(df_novo1)\n",
        "modelo = atualizarModelo(dados_aprendizado)\n",
        "\n",
        "# dados para busca e para o datafram de resultado\n",
        "tamanhoModelo = len(dados_aprendizado) # tamanho do modelo atual\n",
        "numMaxTweets=5\n",
        "\n",
        "df_novo2 = fluxoDeBusca(api,consulta,numMaxTweets,modelo, df_novo1)\n",
        "df_resultado = atualizarResultados(df_novo2,df_resultado)\n",
        "# novo modelo, nova rodada\n",
        "dados_aprendizado = prepararDadosModelo(df_novo2)\n",
        "modelo = atualizarModelo(dados_aprendizado)"
      ]
    },
    {
      "cell_type": "code",
      "execution_count": 7,
      "metadata": {
        "colab": {
          "base_uri": "https://localhost:8080/"
        },
        "id": "qa5sYYPB_VzS",
        "outputId": "e605f2ef-3e88-4dc7-8729-f67c8d8f1c06"
      },
      "outputs": [
        {
          "name": "stdout",
          "output_type": "stream",
          "text": [
            "Tweet 0:Eu tô chocado que eu vendi um colchão pra namorada do Neymar o trem deu problema kkkkkkkkkkkkkkkkkkkkkk A fama vai chegar mas do pior jeito.\n",
            "Sentimento :positivo\n",
            "O algoritimo classificou corretamente N ou S ?s\n",
            "Tweet 15:Neymar quase quebrou as pernas do goleiro no pênalti. Ele humilha mesmo\n",
            "Sentimento :positivo\n",
            "O algoritimo classificou corretamente N ou S ?s\n",
            "Tweet 16:@JosemirMendes3 @neymarjr A função de Neymar na seleção não é fazer gol\n",
            "Sentimento :positivo\n",
            "O algoritimo classificou corretamente N ou S ?s\n",
            "Tweet 17:Neymar fala de sofrimento com lesão e dedica vitória a Pelé https://t.co/oXkRhBwgGi\n",
            "Sentimento :negativo\n",
            "O algoritimo classificou corretamente N ou S ?n\n",
            "Tweet 18:@GugaNoblat Neymar é 10 , o Marxquicista aqui é vc\n",
            "Sentimento :positivo\n",
            "O algoritimo classificou corretamente N ou S ?s\n",
            "Tweet 19:O melhor na minha opinião, tem que respeitar o moleque brabo, pra cima @vinijr . Não tem pra Neymar ! https://t.co/ZsbKyc3B9d\n",
            "Sentimento :positivo\n",
            "O algoritimo classificou corretamente N ou S ?s\n"
          ]
        }
      ],
      "source": [
        "df_novo2\n"
      ]
    },
    {
      "cell_type": "code",
      "execution_count": null,
      "metadata": {},
      "outputs": [],
      "source": [
        "df_resultado"
      ]
    },
    {
      "cell_type": "code",
      "execution_count": 8,
      "metadata": {
        "colab": {
          "base_uri": "https://localhost:8080/",
          "height": 435
        },
        "id": "I7s_v03O2IcP",
        "outputId": "47d10808-19ec-41a5-dacd-9cf3dfeb9db9"
      },
      "outputs": [
        {
          "name": "stdout",
          "output_type": "stream",
          "text": [
            "Tweet 20:Neymar parecendo aquele tio q todo mundo tem q é uma criança por dentro\n",
            "Sentimento :negativo\n",
            "O algoritimo classificou corretamente N ou S ?s\n",
            "Tweet 21:@lbertozzi Sensacional também a análise do cidadão aí que não sei quem é. A defesa preocupou, não tirar Casemiro e Neymar no intervalo também e essa dúvida sobre jogarmos com esse esquema em jogos maiores segue no ar.\n",
            "Sentimento :positivo\n",
            "O algoritimo classificou corretamente N ou S ?s\n",
            "Tweet 22:Neymar com 23 anos = Campeão da Champions League como artilheiro e com gol na final https://t.co/9O51XOwWlC\n",
            "Sentimento :negativo\n",
            "O algoritimo classificou corretamente N ou S ?s\n",
            "Tweet 23:Fico pensando aki, CR7 é idolatrado em seu país, Messi é idolatrado no seu país e (isso sem copa do mundo na carcaça em) aki vagabundo adora malhar o Neymar, brasileiro é fdp mesmo né!! 🤦🤦😪\n",
            "Sentimento :negativo\n",
            "O algoritimo classificou corretamente N ou S ?s\n",
            "Tweet 24:Ver o Neymar jogar da voltando de chorar de alegria volta pro Santos logo menino ney\n",
            "Sentimento :negativo\n",
            "O algoritimo classificou corretamente N ou S ?s\n"
          ]
        },
        {
          "data": {
            "text/html": [
              "\n",
              "  <div id=\"df-ca4769ca-c8d8-45c9-8f33-475db65511ed\">\n",
              "    <div class=\"colab-df-container\">\n",
              "      <div>\n",
              "<style scoped>\n",
              "    .dataframe tbody tr th:only-of-type {\n",
              "        vertical-align: middle;\n",
              "    }\n",
              "\n",
              "    .dataframe tbody tr th {\n",
              "        vertical-align: top;\n",
              "    }\n",
              "\n",
              "    .dataframe thead th {\n",
              "        text-align: right;\n",
              "    }\n",
              "</style>\n",
              "<table border=\"1\" class=\"dataframe\">\n",
              "  <thead>\n",
              "    <tr style=\"text-align: right;\">\n",
              "      <th></th>\n",
              "      <th>title</th>\n",
              "      <th>tamanhoModelo</th>\n",
              "      <th>qtdTweetsBuscados</th>\n",
              "      <th>acertos</th>\n",
              "    </tr>\n",
              "  </thead>\n",
              "  <tbody>\n",
              "    <tr>\n",
              "      <th>0</th>\n",
              "      <td>Neymar</td>\n",
              "      <td>5</td>\n",
              "      <td>10</td>\n",
              "      <td>1</td>\n",
              "    </tr>\n",
              "    <tr>\n",
              "      <th>0</th>\n",
              "      <td>Neymar</td>\n",
              "      <td>6</td>\n",
              "      <td>15</td>\n",
              "      <td>4</td>\n",
              "    </tr>\n",
              "    <tr>\n",
              "      <th>0</th>\n",
              "      <td>Neymar</td>\n",
              "      <td>14</td>\n",
              "      <td>20</td>\n",
              "      <td>5</td>\n",
              "    </tr>\n",
              "    <tr>\n",
              "      <th>0</th>\n",
              "      <td>Neymar</td>\n",
              "      <td>19</td>\n",
              "      <td>25</td>\n",
              "      <td>5</td>\n",
              "    </tr>\n",
              "  </tbody>\n",
              "</table>\n",
              "</div>\n",
              "      <button class=\"colab-df-convert\" onclick=\"convertToInteractive('df-ca4769ca-c8d8-45c9-8f33-475db65511ed')\"\n",
              "              title=\"Convert this dataframe to an interactive table.\"\n",
              "              style=\"display:none;\">\n",
              "        \n",
              "  <svg xmlns=\"http://www.w3.org/2000/svg\" height=\"24px\"viewBox=\"0 0 24 24\"\n",
              "       width=\"24px\">\n",
              "    <path d=\"M0 0h24v24H0V0z\" fill=\"none\"/>\n",
              "    <path d=\"M18.56 5.44l.94 2.06.94-2.06 2.06-.94-2.06-.94-.94-2.06-.94 2.06-2.06.94zm-11 1L8.5 8.5l.94-2.06 2.06-.94-2.06-.94L8.5 2.5l-.94 2.06-2.06.94zm10 10l.94 2.06.94-2.06 2.06-.94-2.06-.94-.94-2.06-.94 2.06-2.06.94z\"/><path d=\"M17.41 7.96l-1.37-1.37c-.4-.4-.92-.59-1.43-.59-.52 0-1.04.2-1.43.59L10.3 9.45l-7.72 7.72c-.78.78-.78 2.05 0 2.83L4 21.41c.39.39.9.59 1.41.59.51 0 1.02-.2 1.41-.59l7.78-7.78 2.81-2.81c.8-.78.8-2.07 0-2.86zM5.41 20L4 18.59l7.72-7.72 1.47 1.35L5.41 20z\"/>\n",
              "  </svg>\n",
              "      </button>\n",
              "      \n",
              "  <style>\n",
              "    .colab-df-container {\n",
              "      display:flex;\n",
              "      flex-wrap:wrap;\n",
              "      gap: 12px;\n",
              "    }\n",
              "\n",
              "    .colab-df-convert {\n",
              "      background-color: #E8F0FE;\n",
              "      border: none;\n",
              "      border-radius: 50%;\n",
              "      cursor: pointer;\n",
              "      display: none;\n",
              "      fill: #1967D2;\n",
              "      height: 32px;\n",
              "      padding: 0 0 0 0;\n",
              "      width: 32px;\n",
              "    }\n",
              "\n",
              "    .colab-df-convert:hover {\n",
              "      background-color: #E2EBFA;\n",
              "      box-shadow: 0px 1px 2px rgba(60, 64, 67, 0.3), 0px 1px 3px 1px rgba(60, 64, 67, 0.15);\n",
              "      fill: #174EA6;\n",
              "    }\n",
              "\n",
              "    [theme=dark] .colab-df-convert {\n",
              "      background-color: #3B4455;\n",
              "      fill: #D2E3FC;\n",
              "    }\n",
              "\n",
              "    [theme=dark] .colab-df-convert:hover {\n",
              "      background-color: #434B5C;\n",
              "      box-shadow: 0px 1px 3px 1px rgba(0, 0, 0, 0.15);\n",
              "      filter: drop-shadow(0px 1px 2px rgba(0, 0, 0, 0.3));\n",
              "      fill: #FFFFFF;\n",
              "    }\n",
              "  </style>\n",
              "\n",
              "      <script>\n",
              "        const buttonEl =\n",
              "          document.querySelector('#df-ca4769ca-c8d8-45c9-8f33-475db65511ed button.colab-df-convert');\n",
              "        buttonEl.style.display =\n",
              "          google.colab.kernel.accessAllowed ? 'block' : 'none';\n",
              "\n",
              "        async function convertToInteractive(key) {\n",
              "          const element = document.querySelector('#df-ca4769ca-c8d8-45c9-8f33-475db65511ed');\n",
              "          const dataTable =\n",
              "            await google.colab.kernel.invokeFunction('convertToInteractive',\n",
              "                                                     [key], {});\n",
              "          if (!dataTable) return;\n",
              "\n",
              "          const docLinkHtml = 'Like what you see? Visit the ' +\n",
              "            '<a target=\"_blank\" href=https://colab.research.google.com/notebooks/data_table.ipynb>data table notebook</a>'\n",
              "            + ' to learn more about interactive tables.';\n",
              "          element.innerHTML = '';\n",
              "          dataTable['output_type'] = 'display_data';\n",
              "          await google.colab.output.renderOutput(dataTable, element);\n",
              "          const docLink = document.createElement('div');\n",
              "          docLink.innerHTML = docLinkHtml;\n",
              "          element.appendChild(docLink);\n",
              "        }\n",
              "      </script>\n",
              "    </div>\n",
              "  </div>\n",
              "  "
            ],
            "text/plain": [
              "    title tamanhoModelo qtdTweetsBuscados acertos\n",
              "0  Neymar             5                10       1\n",
              "0  Neymar             6                15       4\n",
              "0  Neymar            14                20       5\n",
              "0  Neymar            19                25       5"
            ]
          },
          "execution_count": 8,
          "metadata": {},
          "output_type": "execute_result"
        }
      ],
      "source": [
        "#TREINAMENTO 04 - CORREÇÃO 3\n",
        "# dados para busca e para o datafram de resultado\n",
        "tamanhoModelo = len(dados_aprendizado) # tamanho do modelo atual\n",
        "numMaxTweets=5\n",
        "\n",
        "df_novo3 = fluxoDeBusca(api,consulta,numMaxTweets,modelo, df_novo2)\n",
        "df_resultado = atualizarResultados(df_novo3,df_resultado)\n",
        "# novo modelo, nova rodada\n",
        "dados_aprendizado = prepararDadosModelo(df_novo3)\n",
        "modelo = atualizarModelo(dados_aprendizado)"
      ]
    },
    {
      "cell_type": "code",
      "execution_count": null,
      "metadata": {
        "id": "cHXuylp9CPUL"
      },
      "outputs": [],
      "source": [
        "df_novo3"
      ]
    },
    {
      "cell_type": "code",
      "execution_count": null,
      "metadata": {},
      "outputs": [],
      "source": [
        "df_resultado"
      ]
    },
    {
      "cell_type": "code",
      "execution_count": null,
      "metadata": {},
      "outputs": [],
      "source": [
        "#TREINAMENTO 05 - CORREÇÃO 4\n",
        "# dados para busca e para o datafram de resultado\n",
        "tamanhoModelo = len(dados_aprendizado) # tamanho do modelo atual\n",
        "numMaxTweets=5\n",
        "\n",
        "df_novo4 = fluxoDeBusca(api,consulta,numMaxTweets,modelo, df_novo3)\n",
        "df_resultado = atualizarResultados(df_novo4,df_resultado)\n"
      ]
    },
    {
      "cell_type": "code",
      "execution_count": null,
      "metadata": {},
      "outputs": [],
      "source": [
        "df_novo4"
      ]
    },
    {
      "cell_type": "code",
      "execution_count": null,
      "metadata": {},
      "outputs": [],
      "source": [
        "df_resultado"
      ]
    },
    {
      "cell_type": "code",
      "execution_count": null,
      "metadata": {},
      "outputs": [],
      "source": [
        "df_resultado['taxaDeAcerto'] = (df_resultado.acertos /df_resultado.qtdTweetsBuscados)\n",
        "df_resultado"
      ]
    },
    {
      "cell_type": "code",
      "execution_count": null,
      "metadata": {},
      "outputs": [],
      "source": [
        "x = df_resultado['qtdTweetsBuscados'].values\n",
        "y = df_resultado['taxaDeAcerto'].values\n",
        "tituloGrafico = 'Taxa de Acerto ' + title\n",
        "pltRes = df_resultado.plot.bar(x='qtdTweetsBuscados', y = 'taxaDeAcerto', title=tituloGrafico,  xlabel='qtdTweetsBuscados', ylabel='taxa de acerto',  figsize=(20,8)) \n",
        "pltRes.grid(True)"
      ]
    },
    {
      "cell_type": "code",
      "execution_count": 9,
      "metadata": {
        "colab": {
          "base_uri": "https://localhost:8080/",
          "height": 513
        },
        "id": "ItAvh_0DCOGE",
        "outputId": "f5634d1f-007c-4d3e-acc0-5ae87d3d0c2b"
      },
      "outputs": [
        {
          "data": {
            "image/png": "[encoded data removed]",
            "text/plain": [
              "<Figure size 1440x576 with 1 Axes>"
            ]
          },
          "metadata": {
            "needs_background": "light"
          },
          "output_type": "display_data"
        }
      ],
      "source": [
        "x = df_resultado['acertos'].values\n",
        "y = df_resultado['tamanhoModelo'].values\n",
        "tituloGrafico = 'Tweets com título: ' + title\n",
        "pltRes = df_resultado.plot.line(x='tamanhoModelo', y = 'acertos', title=tituloGrafico,  xlabel='Tamanho Modelo', ylabel='Acertos',  figsize=(20,8)) \n",
        "pltRes.grid(True)\n",
        "\n"
      ]
    },
    {
      "cell_type": "code",
      "execution_count": 60,
      "metadata": {
        "colab": {
          "base_uri": "https://localhost:8080/",
          "height": 497
        },
        "id": "xIXgD5Eutgh8",
        "outputId": "e3902554-d18b-49da-b0ad-194b3075f1d9"
      },
      "outputs": [
        {
          "data": {
            "image/png": "[encoded data removed]",
            "text/plain": [
              "<Figure size 1080x576 with 1 Axes>"
            ]
          },
          "metadata": {
            "needs_background": "light"
          },
          "output_type": "display_data"
        }
      ],
      "source": [
        "# Grafico de barras\n",
        "fig, ax = plt.subplots(figsize = (15,8))\n",
        "df_resultado.plot(x= 'acertos' , y= ['tamanhoModelo','qtdTweetsBuscados'], kind = 'bar', ax = ax).grid(False)\n",
        "df_resultado.plot(x= 'acertos' , y= 'tamanhoModelo', kind = 'line', ax = ax, ms=50).grid(False)\n",
        "\n",
        "\n",
        "\n"
      ]
    },
    {
      "cell_type": "code",
      "execution_count": null,
      "metadata": {
        "id": "CFzmgMnhCQGa"
      },
      "outputs": [],
      "source": [
        "# salvar o modelo em arquivo\n",
        "salvarModeloEmArquivo(modelo)"
      ]
    }
  ],
  "metadata": {
    "colab": {
      "provenance": []
    },
    "kernelspec": {
      "display_name": "Python 3",
      "name": "python3"
    },
    "language_info": {
      "name": "python"
    }
  },
  "nbformat": 4,
  "nbformat_minor": 0
}
